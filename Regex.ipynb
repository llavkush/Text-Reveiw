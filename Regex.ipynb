{
  "cells": [
    {
      "cell_type": "markdown",
      "metadata": {
        "id": "hjAyLF1a-XcY"
      },
      "source": [
        "Part 1 (Three Questions)\n",
        "\n",
        "\n",
        "Write a regex to extract all the numbers with orange color background from the below text in italics.\n"
      ]
    },
    {
      "cell_type": "code",
      "execution_count": null,
      "metadata": {
        "id": "2kHIkGaE-RrC"
      },
      "outputs": [],
      "source": [
        "string = {\"orders\":[{\"id\":1},{\"id\":2},{\"id\":3},{\"id\":4},{\"id\":5},{\"id\":6},{\"id\":7},{\"id\":8},{\"id\":9},{\"id\":10},{\"id\":11},{\"id\":648},{\"id\":649},{\"id\":650},{\"id\":651},{\"id\":652},{\"id\":653}],\"errors\":[{\"code\":3,\"message\":\"[PHP Warning #2] count(): Parameter must be an array or an object that implements Countable (153)\"}]}\n"
      ]
    },
    {
      "cell_type": "code",
      "source": [
        "print(string.values())"
      ],
      "metadata": {
        "colab": {
          "base_uri": "https://localhost:8080/"
        },
        "id": "t6Zl7LLyHvnO",
        "outputId": "2ddbe166-7a04-4e4a-e40b-ed791a3545f6"
      },
      "execution_count": null,
      "outputs": [
        {
          "output_type": "stream",
          "name": "stdout",
          "text": [
            "dict_values([[{'id': 1}, {'id': 2}, {'id': 3}, {'id': 4}, {'id': 5}, {'id': 6}, {'id': 7}, {'id': 8}, {'id': 9}, {'id': 10}, {'id': 11}, {'id': 648}, {'id': 649}, {'id': 650}, {'id': 651}, {'id': 652}, {'id': 653}], [{'code': 3, 'message': '[PHP Warning #2] count(): Parameter must be an array or an object that implements Countable (153)'}]])\n"
          ]
        }
      ]
    },
    {
      "cell_type": "code",
      "execution_count": null,
      "metadata": {
        "colab": {
          "base_uri": "https://localhost:8080/"
        },
        "id": "qjmSr8X5-kXk",
        "outputId": "aeb886ee-69e4-4ac2-ae7d-e348e8e9d891"
      },
      "outputs": [
        {
          "output_type": "stream",
          "name": "stdout",
          "text": [
            "1\n",
            "2\n",
            "3\n",
            "4\n",
            "5\n",
            "6\n",
            "7\n",
            "8\n",
            "9\n",
            "10\n",
            "11\n",
            "648\n",
            "649\n",
            "650\n",
            "651\n",
            "652\n",
            "653\n",
            "3\n"
          ]
        }
      ],
      "source": [
        "for i in string.values():\n",
        "  for j in i:\n",
        "    for k in j.values():\n",
        "      if type(k) == int:\n",
        "        print(k)"
      ]
    },
    {
      "cell_type": "markdown",
      "source": [
        "Since I have not much exerience with Regular expression, I Couldnt do it but was able to find Work around, Hopes this count"
      ],
      "metadata": {
        "id": "BK9hFoIVWfe6"
      }
    }
  ],
  "metadata": {
    "colab": {
      "name": "Regex",
      "provenance": [],
      "collapsed_sections": []
    },
    "kernelspec": {
      "display_name": "Python 3",
      "name": "python3"
    },
    "language_info": {
      "name": "python"
    }
  },
  "nbformat": 4,
  "nbformat_minor": 0
}