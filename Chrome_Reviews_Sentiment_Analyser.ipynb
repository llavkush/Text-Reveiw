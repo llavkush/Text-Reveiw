{
  "nbformat": 4,
  "nbformat_minor": 0,
  "metadata": {
    "colab": {
      "name": "Chrome Reviews Sentiment Analyser.ipynb",
      "provenance": [],
      "collapsed_sections": []
    },
    "kernelspec": {
      "name": "python3",
      "display_name": "Python 3"
    },
    "language_info": {
      "name": "python"
    },
    "accelerator": "GPU"
  },
  "cells": [
    {
      "cell_type": "code",
      "source": [
        "!pip install emot"
      ],
      "metadata": {
        "colab": {
          "base_uri": "https://localhost:8080/"
        },
        "id": "ilQAVnkJqqdG",
        "outputId": "258633ca-9e3d-4ede-9b60-f6fd789d298a"
      },
      "execution_count": null,
      "outputs": [
        {
          "output_type": "stream",
          "name": "stdout",
          "text": [
            "Looking in indexes: https://pypi.org/simple, https://us-python.pkg.dev/colab-wheels/public/simple/\n",
            "Requirement already satisfied: emot in /usr/local/lib/python3.7/dist-packages (3.1)\n"
          ]
        }
      ]
    },
    {
      "cell_type": "code",
      "source": [
        "import pandas as pd\n",
        "import numpy as np"
      ],
      "metadata": {
        "id": "3TjiKp7SOYrB"
      },
      "execution_count": null,
      "outputs": []
    },
    {
      "cell_type": "code",
      "execution_count": null,
      "metadata": {
        "colab": {
          "base_uri": "https://localhost:8080/"
        },
        "id": "aOtWnMoRNM-e",
        "outputId": "fe946e93-22d7-4962-e43d-de956c9eaea7"
      },
      "outputs": [
        {
          "output_type": "stream",
          "name": "stderr",
          "text": [
            "No model was supplied, defaulted to distilbert-base-uncased-finetuned-sst-2-english (https://huggingface.co/distilbert-base-uncased-finetuned-sst-2-english)\n"
          ]
        },
        {
          "output_type": "execute_result",
          "data": {
            "text/plain": [
              "[{'label': 'POSITIVE', 'score': 0.9998520612716675},\n",
              " {'label': 'NEGATIVE', 'score': 0.9991129040718079}]"
            ]
          },
          "metadata": {},
          "execution_count": 3
        }
      ],
      "source": [
        "!pip install -q transformers\n",
        "#Downloading pre_trained Sentiment analyser from HuggingFace Library\n",
        "from transformers import pipeline\n",
        "sentiment_pipeline = pipeline(\"sentiment-analysis\")\n",
        "data = [\"very Good\", \"I hate you\"]\n",
        "sentiment_pipeline(data)"
      ]
    },
    {
      "cell_type": "code",
      "source": [
        "chrome_reviews = pd.read_csv('/content/chrome_reviews.csv')\n",
        "chrome_reviews.shape"
      ],
      "metadata": {
        "colab": {
          "base_uri": "https://localhost:8080/"
        },
        "id": "bCjegta-Nrco",
        "outputId": "2009ff65-08f4-438e-bc6b-46b243abff93"
      },
      "execution_count": null,
      "outputs": [
        {
          "output_type": "execute_result",
          "data": {
            "text/plain": [
              "(7204, 10)"
            ]
          },
          "metadata": {},
          "execution_count": 33
        }
      ]
    },
    {
      "cell_type": "code",
      "source": [
        "chrome_reviews = chrome_reviews.loc[:, ['ID','Text','Star','User Name', 'Thumbs Up','Review URL','Developer Reply', 'Version', 'Review Date', 'App ID']]\n",
        "chrome_reviews.columns"
      ],
      "metadata": {
        "colab": {
          "base_uri": "https://localhost:8080/"
        },
        "id": "IUCmpxpGMfuZ",
        "outputId": "359f78ba-fa16-4a5a-a331-de8683e37daf"
      },
      "execution_count": null,
      "outputs": [
        {
          "output_type": "execute_result",
          "data": {
            "text/plain": [
              "Index(['ID', 'Text', 'Star', 'User Name', 'Thumbs Up', 'Review URL',\n",
              "       'Developer Reply', 'Version', 'Review Date', 'App ID'],\n",
              "      dtype='object')"
            ]
          },
          "metadata": {},
          "execution_count": 36
        }
      ]
    },
    {
      "cell_type": "code",
      "source": [
        "chrome_reviews.head()"
      ],
      "metadata": {
        "colab": {
          "base_uri": "https://localhost:8080/",
          "height": 372
        },
        "id": "HNUTPHOFOWYG",
        "outputId": "144e84a1-5adf-48c6-b6ad-17a61487403c"
      },
      "execution_count": null,
      "outputs": [
        {
          "output_type": "execute_result",
          "data": {
            "text/plain": [
              "     ID                                            Text  Star  \\\n",
              "0  3886                      This is very helpfull aap.     5   \n",
              "1  3887                                            Good     3   \n",
              "2  3888  Not able to update. Neither able to uninstall.     1   \n",
              "3  3889                                        Nice app     4   \n",
              "4  3890                               Many unwanted ads     1   \n",
              "\n",
              "          User Name  Thumbs Up  \\\n",
              "0  INDIAN Knowledge          0   \n",
              "1  Ijeoma Happiness          2   \n",
              "2  Priti D BtCFs-29          0   \n",
              "3        Ajeet Raja          0   \n",
              "4           Rams Mp          0   \n",
              "\n",
              "                                          Review URL Developer Reply  \\\n",
              "0  https://play.google.com/store/apps/details?id=...             NaN   \n",
              "1  https://play.google.com/store/apps/details?id=...             NaN   \n",
              "2  https://play.google.com/store/apps/details?id=...             NaN   \n",
              "3  https://play.google.com/store/apps/details?id=...             NaN   \n",
              "4  https://play.google.com/store/apps/details?id=...             NaN   \n",
              "\n",
              "         Version Review Date              App ID  \n",
              "0  83.0.4103.106  2020-12-19  com.android.chrome  \n",
              "1  85.0.4183.127  2020-12-19  com.android.chrome  \n",
              "2  85.0.4183.127  2020-12-19  com.android.chrome  \n",
              "3  77.0.3865.116  2020-12-19  com.android.chrome  \n",
              "4   87.0.4280.66  2020-12-19  com.android.chrome  "
            ],
            "text/html": [
              "\n",
              "  <div id=\"df-227a3b25-a2bc-4cf0-89e5-0e56ec7504f2\">\n",
              "    <div class=\"colab-df-container\">\n",
              "      <div>\n",
              "<style scoped>\n",
              "    .dataframe tbody tr th:only-of-type {\n",
              "        vertical-align: middle;\n",
              "    }\n",
              "\n",
              "    .dataframe tbody tr th {\n",
              "        vertical-align: top;\n",
              "    }\n",
              "\n",
              "    .dataframe thead th {\n",
              "        text-align: right;\n",
              "    }\n",
              "</style>\n",
              "<table border=\"1\" class=\"dataframe\">\n",
              "  <thead>\n",
              "    <tr style=\"text-align: right;\">\n",
              "      <th></th>\n",
              "      <th>ID</th>\n",
              "      <th>Text</th>\n",
              "      <th>Star</th>\n",
              "      <th>User Name</th>\n",
              "      <th>Thumbs Up</th>\n",
              "      <th>Review URL</th>\n",
              "      <th>Developer Reply</th>\n",
              "      <th>Version</th>\n",
              "      <th>Review Date</th>\n",
              "      <th>App ID</th>\n",
              "    </tr>\n",
              "  </thead>\n",
              "  <tbody>\n",
              "    <tr>\n",
              "      <th>0</th>\n",
              "      <td>3886</td>\n",
              "      <td>This is very helpfull aap.</td>\n",
              "      <td>5</td>\n",
              "      <td>INDIAN Knowledge</td>\n",
              "      <td>0</td>\n",
              "      <td>https://play.google.com/store/apps/details?id=...</td>\n",
              "      <td>NaN</td>\n",
              "      <td>83.0.4103.106</td>\n",
              "      <td>2020-12-19</td>\n",
              "      <td>com.android.chrome</td>\n",
              "    </tr>\n",
              "    <tr>\n",
              "      <th>1</th>\n",
              "      <td>3887</td>\n",
              "      <td>Good</td>\n",
              "      <td>3</td>\n",
              "      <td>Ijeoma Happiness</td>\n",
              "      <td>2</td>\n",
              "      <td>https://play.google.com/store/apps/details?id=...</td>\n",
              "      <td>NaN</td>\n",
              "      <td>85.0.4183.127</td>\n",
              "      <td>2020-12-19</td>\n",
              "      <td>com.android.chrome</td>\n",
              "    </tr>\n",
              "    <tr>\n",
              "      <th>2</th>\n",
              "      <td>3888</td>\n",
              "      <td>Not able to update. Neither able to uninstall.</td>\n",
              "      <td>1</td>\n",
              "      <td>Priti D BtCFs-29</td>\n",
              "      <td>0</td>\n",
              "      <td>https://play.google.com/store/apps/details?id=...</td>\n",
              "      <td>NaN</td>\n",
              "      <td>85.0.4183.127</td>\n",
              "      <td>2020-12-19</td>\n",
              "      <td>com.android.chrome</td>\n",
              "    </tr>\n",
              "    <tr>\n",
              "      <th>3</th>\n",
              "      <td>3889</td>\n",
              "      <td>Nice app</td>\n",
              "      <td>4</td>\n",
              "      <td>Ajeet Raja</td>\n",
              "      <td>0</td>\n",
              "      <td>https://play.google.com/store/apps/details?id=...</td>\n",
              "      <td>NaN</td>\n",
              "      <td>77.0.3865.116</td>\n",
              "      <td>2020-12-19</td>\n",
              "      <td>com.android.chrome</td>\n",
              "    </tr>\n",
              "    <tr>\n",
              "      <th>4</th>\n",
              "      <td>3890</td>\n",
              "      <td>Many unwanted ads</td>\n",
              "      <td>1</td>\n",
              "      <td>Rams Mp</td>\n",
              "      <td>0</td>\n",
              "      <td>https://play.google.com/store/apps/details?id=...</td>\n",
              "      <td>NaN</td>\n",
              "      <td>87.0.4280.66</td>\n",
              "      <td>2020-12-19</td>\n",
              "      <td>com.android.chrome</td>\n",
              "    </tr>\n",
              "  </tbody>\n",
              "</table>\n",
              "</div>\n",
              "      <button class=\"colab-df-convert\" onclick=\"convertToInteractive('df-227a3b25-a2bc-4cf0-89e5-0e56ec7504f2')\"\n",
              "              title=\"Convert this dataframe to an interactive table.\"\n",
              "              style=\"display:none;\">\n",
              "        \n",
              "  <svg xmlns=\"http://www.w3.org/2000/svg\" height=\"24px\"viewBox=\"0 0 24 24\"\n",
              "       width=\"24px\">\n",
              "    <path d=\"M0 0h24v24H0V0z\" fill=\"none\"/>\n",
              "    <path d=\"M18.56 5.44l.94 2.06.94-2.06 2.06-.94-2.06-.94-.94-2.06-.94 2.06-2.06.94zm-11 1L8.5 8.5l.94-2.06 2.06-.94-2.06-.94L8.5 2.5l-.94 2.06-2.06.94zm10 10l.94 2.06.94-2.06 2.06-.94-2.06-.94-.94-2.06-.94 2.06-2.06.94z\"/><path d=\"M17.41 7.96l-1.37-1.37c-.4-.4-.92-.59-1.43-.59-.52 0-1.04.2-1.43.59L10.3 9.45l-7.72 7.72c-.78.78-.78 2.05 0 2.83L4 21.41c.39.39.9.59 1.41.59.51 0 1.02-.2 1.41-.59l7.78-7.78 2.81-2.81c.8-.78.8-2.07 0-2.86zM5.41 20L4 18.59l7.72-7.72 1.47 1.35L5.41 20z\"/>\n",
              "  </svg>\n",
              "      </button>\n",
              "      \n",
              "  <style>\n",
              "    .colab-df-container {\n",
              "      display:flex;\n",
              "      flex-wrap:wrap;\n",
              "      gap: 12px;\n",
              "    }\n",
              "\n",
              "    .colab-df-convert {\n",
              "      background-color: #E8F0FE;\n",
              "      border: none;\n",
              "      border-radius: 50%;\n",
              "      cursor: pointer;\n",
              "      display: none;\n",
              "      fill: #1967D2;\n",
              "      height: 32px;\n",
              "      padding: 0 0 0 0;\n",
              "      width: 32px;\n",
              "    }\n",
              "\n",
              "    .colab-df-convert:hover {\n",
              "      background-color: #E2EBFA;\n",
              "      box-shadow: 0px 1px 2px rgba(60, 64, 67, 0.3), 0px 1px 3px 1px rgba(60, 64, 67, 0.15);\n",
              "      fill: #174EA6;\n",
              "    }\n",
              "\n",
              "    [theme=dark] .colab-df-convert {\n",
              "      background-color: #3B4455;\n",
              "      fill: #D2E3FC;\n",
              "    }\n",
              "\n",
              "    [theme=dark] .colab-df-convert:hover {\n",
              "      background-color: #434B5C;\n",
              "      box-shadow: 0px 1px 3px 1px rgba(0, 0, 0, 0.15);\n",
              "      filter: drop-shadow(0px 1px 2px rgba(0, 0, 0, 0.3));\n",
              "      fill: #FFFFFF;\n",
              "    }\n",
              "  </style>\n",
              "\n",
              "      <script>\n",
              "        const buttonEl =\n",
              "          document.querySelector('#df-227a3b25-a2bc-4cf0-89e5-0e56ec7504f2 button.colab-df-convert');\n",
              "        buttonEl.style.display =\n",
              "          google.colab.kernel.accessAllowed ? 'block' : 'none';\n",
              "\n",
              "        async function convertToInteractive(key) {\n",
              "          const element = document.querySelector('#df-227a3b25-a2bc-4cf0-89e5-0e56ec7504f2');\n",
              "          const dataTable =\n",
              "            await google.colab.kernel.invokeFunction('convertToInteractive',\n",
              "                                                     [key], {});\n",
              "          if (!dataTable) return;\n",
              "\n",
              "          const docLinkHtml = 'Like what you see? Visit the ' +\n",
              "            '<a target=\"_blank\" href=https://colab.research.google.com/notebooks/data_table.ipynb>data table notebook</a>'\n",
              "            + ' to learn more about interactive tables.';\n",
              "          element.innerHTML = '';\n",
              "          dataTable['output_type'] = 'display_data';\n",
              "          await google.colab.output.renderOutput(dataTable, element);\n",
              "          const docLink = document.createElement('div');\n",
              "          docLink.innerHTML = docLinkHtml;\n",
              "          element.appendChild(docLink);\n",
              "        }\n",
              "      </script>\n",
              "    </div>\n",
              "  </div>\n",
              "  "
            ]
          },
          "metadata": {},
          "execution_count": 37
        }
      ]
    },
    {
      "cell_type": "code",
      "source": [
        "chrome_reviews.info()"
      ],
      "metadata": {
        "colab": {
          "base_uri": "https://localhost:8080/"
        },
        "id": "46qJIfvDVRng",
        "outputId": "7b284057-44c6-45da-867e-3b516bfea6dc"
      },
      "execution_count": null,
      "outputs": [
        {
          "output_type": "stream",
          "name": "stdout",
          "text": [
            "<class 'pandas.core.frame.DataFrame'>\n",
            "RangeIndex: 7204 entries, 0 to 7203\n",
            "Data columns (total 10 columns):\n",
            " #   Column           Non-Null Count  Dtype \n",
            "---  ------           --------------  ----- \n",
            " 0   ID               7204 non-null   int64 \n",
            " 1   Review URL       7204 non-null   object\n",
            " 2   Text             7203 non-null   object\n",
            " 3   Star             7204 non-null   int64 \n",
            " 4   Thumbs Up        7204 non-null   int64 \n",
            " 5   User Name        7204 non-null   object\n",
            " 6   Developer Reply  95 non-null     object\n",
            " 7   Version          7119 non-null   object\n",
            " 8   Review Date      7204 non-null   object\n",
            " 9   App ID           7204 non-null   object\n",
            "dtypes: int64(3), object(7)\n",
            "memory usage: 562.9+ KB\n"
          ]
        }
      ]
    },
    {
      "cell_type": "code",
      "source": [
        ""
      ],
      "metadata": {
        "id": "8ZjJEVTnqxZN"
      },
      "execution_count": null,
      "outputs": []
    },
    {
      "cell_type": "code",
      "source": [
        "import re\n",
        "from emot.emo_unicode import UNICODE_EMOJI # For emojis\n",
        "from emot.emo_unicode import EMOTICONS_EMO # For EMOTICONS\n",
        "\n",
        "# Function for converting emojis into word\n",
        "def convert_emojis(text):\n",
        "    text = str(text)\n",
        "    for emot in UNICODE_EMOJI:\n",
        "        text = text.replace(emot, \"_\".join(UNICODE_EMOJI[emot].replace(\",\",\"\").replace(\":\",\"\").split()))\n",
        "    return text\n",
        "\n",
        "\n",
        "def clean(text):\n",
        "    cleaned = re.compile(r'<.*?>')\n",
        "    return re.sub(cleaned,'',str(text))\n",
        "\n",
        "#Cleaing Special Characters\n",
        "def is_special(text):\n",
        "    rem = ''\n",
        "    for i in text:\n",
        "        if i.isalnum():\n",
        "            rem = rem + i\n",
        "        else:\n",
        "            rem = rem + ' '\n",
        "    return rem\n",
        "\n",
        "\n",
        "def to_lower(text):\n",
        "    return text.lower()\n"
      ],
      "metadata": {
        "id": "5K7eEO1tV23t"
      },
      "execution_count": null,
      "outputs": []
    },
    {
      "cell_type": "code",
      "source": [
        "#Cleaning Text of Emojis, Speacial Characters\n",
        "chrome_reviews['Text'].dropna()\n",
        "chrome_reviews['Tokenised_Text'] = chrome_reviews['Text'].apply(convert_emojis)\n",
        "chrome_reviews['Tokenised_Text'] = chrome_reviews['Text'].apply(clean)\n",
        "chrome_reviews['Tokenised_Text'] = chrome_reviews['Tokenised_Text'].apply(is_special)\n",
        "chrome_reviews['Tokenised_Text'] = chrome_reviews['Tokenised_Text'].apply(to_lower)"
      ],
      "metadata": {
        "id": "CsuPXJ_0Vbrw"
      },
      "execution_count": null,
      "outputs": []
    },
    {
      "cell_type": "code",
      "source": [
        "eo = chrome_reviews['Text'][56]\n",
        "eo"
      ],
      "metadata": {
        "colab": {
          "base_uri": "https://localhost:8080/",
          "height": 36
        },
        "id": "1g4RCIxNs-Ge",
        "outputId": "677a4950-934a-4eec-bc1b-e2f5b672dd69"
      },
      "execution_count": null,
      "outputs": [
        {
          "output_type": "execute_result",
          "data": {
            "text/plain": [
              "'👎'"
            ],
            "application/vnd.google.colaboratory.intrinsic+json": {
              "type": "string"
            }
          },
          "metadata": {},
          "execution_count": 9
        }
      ]
    },
    {
      "cell_type": "code",
      "source": [
        "to_lower(is_special(clean(convert_emojis(eo))))\n"
      ],
      "metadata": {
        "colab": {
          "base_uri": "https://localhost:8080/",
          "height": 36
        },
        "id": "4UbPQFQGtIjk",
        "outputId": "6224a2cd-a140-4ccb-e88e-c4bf75018ef3"
      },
      "execution_count": null,
      "outputs": [
        {
          "output_type": "execute_result",
          "data": {
            "text/plain": [
              "'thumbs down'"
            ],
            "application/vnd.google.colaboratory.intrinsic+json": {
              "type": "string"
            }
          },
          "metadata": {},
          "execution_count": 10
        }
      ]
    },
    {
      "cell_type": "code",
      "source": [
        "chrome_reviews.info()"
      ],
      "metadata": {
        "colab": {
          "base_uri": "https://localhost:8080/"
        },
        "id": "VhrhjVQ2YoHP",
        "outputId": "cf59d1fc-9168-4a95-ba5e-4f1262a15737"
      },
      "execution_count": null,
      "outputs": [
        {
          "output_type": "stream",
          "name": "stdout",
          "text": [
            "<class 'pandas.core.frame.DataFrame'>\n",
            "RangeIndex: 7204 entries, 0 to 7203\n",
            "Data columns (total 11 columns):\n",
            " #   Column           Non-Null Count  Dtype \n",
            "---  ------           --------------  ----- \n",
            " 0   ID               7204 non-null   int64 \n",
            " 1   Review URL       7204 non-null   object\n",
            " 2   Text             7203 non-null   object\n",
            " 3   Star             7204 non-null   int64 \n",
            " 4   Thumbs Up        7204 non-null   int64 \n",
            " 5   User Name        7204 non-null   object\n",
            " 6   Developer Reply  95 non-null     object\n",
            " 7   Version          7119 non-null   object\n",
            " 8   Review Date      7204 non-null   object\n",
            " 9   App ID           7204 non-null   object\n",
            " 10  Tokenised_Text   7204 non-null   object\n",
            "dtypes: int64(3), object(8)\n",
            "memory usage: 619.2+ KB\n"
          ]
        }
      ]
    },
    {
      "cell_type": "code",
      "source": [
        "y = sentiment_pipeline(chrome_reviews['Tokenised_Text'][4])\n",
        "y"
      ],
      "metadata": {
        "colab": {
          "base_uri": "https://localhost:8080/"
        },
        "id": "QsY5TnYqPA3J",
        "outputId": "fb721eeb-d476-4dd3-d8af-e2728bec578a"
      },
      "execution_count": null,
      "outputs": [
        {
          "output_type": "execute_result",
          "data": {
            "text/plain": [
              "[{'label': 'NEGATIVE', 'score': 0.9996932744979858}]"
            ]
          },
          "metadata": {},
          "execution_count": 12
        }
      ]
    },
    {
      "cell_type": "code",
      "source": [
        "#Helppr Function to get sentiments\n",
        "def get_sentiments(text):\n",
        "  sentiments = sentiment_pipeline(text)\n",
        "  return sentiments[0]['label']\n"
      ],
      "metadata": {
        "id": "0gb4wDruP3Ip"
      },
      "execution_count": null,
      "outputs": []
    },
    {
      "cell_type": "code",
      "source": [
        "%%time\n",
        "get_sentiments(chrome_reviews['Text'][4])"
      ],
      "metadata": {
        "colab": {
          "base_uri": "https://localhost:8080/",
          "height": 73
        },
        "id": "4vcdAA5sQk2u",
        "outputId": "eee5894f-b029-447c-a3b4-0ef5728ab7d9"
      },
      "execution_count": null,
      "outputs": [
        {
          "output_type": "stream",
          "name": "stdout",
          "text": [
            "CPU times: user 42.6 ms, sys: 0 ns, total: 42.6 ms\n",
            "Wall time: 69 ms\n"
          ]
        },
        {
          "output_type": "execute_result",
          "data": {
            "text/plain": [
              "'NEGATIVE'"
            ],
            "application/vnd.google.colaboratory.intrinsic+json": {
              "type": "string"
            }
          },
          "metadata": {},
          "execution_count": 14
        }
      ]
    },
    {
      "cell_type": "code",
      "source": [
        "#Labeling Text as Either Positive or Negative Based on  Sentiments\n",
        "chrome_reviews['user_sentiments'] = chrome_reviews['Tokenised_Text'].apply(get_sentiments)"
      ],
      "metadata": {
        "id": "GakAx-NAPPgi"
      },
      "execution_count": null,
      "outputs": []
    },
    {
      "cell_type": "code",
      "source": [
        "chrome_reviews.tail()"
      ],
      "metadata": {
        "colab": {
          "base_uri": "https://localhost:8080/",
          "height": 565
        },
        "id": "ZdryE_sEPxBQ",
        "outputId": "24bbb824-24fc-4816-b48c-05b6e26548e5"
      },
      "execution_count": null,
      "outputs": [
        {
          "output_type": "execute_result",
          "data": {
            "text/plain": [
              "          ID                                         Review URL  \\\n",
              "7199  684987  https://play.google.com/store/apps/details?id=...   \n",
              "7200  684988  https://play.google.com/store/apps/details?id=...   \n",
              "7201  684989  https://play.google.com/store/apps/details?id=...   \n",
              "7202  684990  https://play.google.com/store/apps/details?id=...   \n",
              "7203  684991  https://play.google.com/store/apps/details?id=...   \n",
              "\n",
              "                                                   Text  Star  Thumbs Up  \\\n",
              "7199                                          Bagusss..     5          0   \n",
              "7200                                      Bad version 😔     1          0   \n",
              "7201  One thing that I have to say I can't spelled t...     5          0   \n",
              "7202                                          Excellent     5          0   \n",
              "7203  After update it lag and always slow same goes ...     1          0   \n",
              "\n",
              "            User Name Developer Reply        Version Review Date  \\\n",
              "7199  boima panjaitan             NaN   88.0.4324.93  2021-03-05   \n",
              "7200     निशान्त सिंह             NaN  88.0.4324.181  2021-03-05   \n",
              "7201     Virgie Allen             NaN   89.0.4389.72  2021-03-05   \n",
              "7202   Kazuo Guevarra             NaN   89.0.4389.72  2021-03-05   \n",
              "7203       Hanin Amni             NaN   88.0.4324.93  2021-03-05   \n",
              "\n",
              "                  App ID                                     Tokenised_Text  \\\n",
              "7199  com.android.chrome                                          bagusss..   \n",
              "7200  com.android.chrome                                      bad version 😔   \n",
              "7201  com.android.chrome  one thing that i have to say i can't spelled t...   \n",
              "7202  com.android.chrome                                          excellent   \n",
              "7203  com.android.chrome  after update it lag and always slow same goes ...   \n",
              "\n",
              "     user_sentiments  \n",
              "7199        NEGATIVE  \n",
              "7200        NEGATIVE  \n",
              "7201        POSITIVE  \n",
              "7202        POSITIVE  \n",
              "7203        NEGATIVE  "
            ],
            "text/html": [
              "\n",
              "  <div id=\"df-d311c534-545c-4cf0-86df-5d39f760b32c\">\n",
              "    <div class=\"colab-df-container\">\n",
              "      <div>\n",
              "<style scoped>\n",
              "    .dataframe tbody tr th:only-of-type {\n",
              "        vertical-align: middle;\n",
              "    }\n",
              "\n",
              "    .dataframe tbody tr th {\n",
              "        vertical-align: top;\n",
              "    }\n",
              "\n",
              "    .dataframe thead th {\n",
              "        text-align: right;\n",
              "    }\n",
              "</style>\n",
              "<table border=\"1\" class=\"dataframe\">\n",
              "  <thead>\n",
              "    <tr style=\"text-align: right;\">\n",
              "      <th></th>\n",
              "      <th>ID</th>\n",
              "      <th>Review URL</th>\n",
              "      <th>Text</th>\n",
              "      <th>Star</th>\n",
              "      <th>Thumbs Up</th>\n",
              "      <th>User Name</th>\n",
              "      <th>Developer Reply</th>\n",
              "      <th>Version</th>\n",
              "      <th>Review Date</th>\n",
              "      <th>App ID</th>\n",
              "      <th>Tokenised_Text</th>\n",
              "      <th>user_sentiments</th>\n",
              "    </tr>\n",
              "  </thead>\n",
              "  <tbody>\n",
              "    <tr>\n",
              "      <th>7199</th>\n",
              "      <td>684987</td>\n",
              "      <td>https://play.google.com/store/apps/details?id=...</td>\n",
              "      <td>Bagusss..</td>\n",
              "      <td>5</td>\n",
              "      <td>0</td>\n",
              "      <td>boima panjaitan</td>\n",
              "      <td>NaN</td>\n",
              "      <td>88.0.4324.93</td>\n",
              "      <td>2021-03-05</td>\n",
              "      <td>com.android.chrome</td>\n",
              "      <td>bagusss..</td>\n",
              "      <td>NEGATIVE</td>\n",
              "    </tr>\n",
              "    <tr>\n",
              "      <th>7200</th>\n",
              "      <td>684988</td>\n",
              "      <td>https://play.google.com/store/apps/details?id=...</td>\n",
              "      <td>Bad version 😔</td>\n",
              "      <td>1</td>\n",
              "      <td>0</td>\n",
              "      <td>निशान्त सिंह</td>\n",
              "      <td>NaN</td>\n",
              "      <td>88.0.4324.181</td>\n",
              "      <td>2021-03-05</td>\n",
              "      <td>com.android.chrome</td>\n",
              "      <td>bad version 😔</td>\n",
              "      <td>NEGATIVE</td>\n",
              "    </tr>\n",
              "    <tr>\n",
              "      <th>7201</th>\n",
              "      <td>684989</td>\n",
              "      <td>https://play.google.com/store/apps/details?id=...</td>\n",
              "      <td>One thing that I have to say I can't spelled t...</td>\n",
              "      <td>5</td>\n",
              "      <td>0</td>\n",
              "      <td>Virgie Allen</td>\n",
              "      <td>NaN</td>\n",
              "      <td>89.0.4389.72</td>\n",
              "      <td>2021-03-05</td>\n",
              "      <td>com.android.chrome</td>\n",
              "      <td>one thing that i have to say i can't spelled t...</td>\n",
              "      <td>POSITIVE</td>\n",
              "    </tr>\n",
              "    <tr>\n",
              "      <th>7202</th>\n",
              "      <td>684990</td>\n",
              "      <td>https://play.google.com/store/apps/details?id=...</td>\n",
              "      <td>Excellent</td>\n",
              "      <td>5</td>\n",
              "      <td>0</td>\n",
              "      <td>Kazuo Guevarra</td>\n",
              "      <td>NaN</td>\n",
              "      <td>89.0.4389.72</td>\n",
              "      <td>2021-03-05</td>\n",
              "      <td>com.android.chrome</td>\n",
              "      <td>excellent</td>\n",
              "      <td>POSITIVE</td>\n",
              "    </tr>\n",
              "    <tr>\n",
              "      <th>7203</th>\n",
              "      <td>684991</td>\n",
              "      <td>https://play.google.com/store/apps/details?id=...</td>\n",
              "      <td>After update it lag and always slow same goes ...</td>\n",
              "      <td>1</td>\n",
              "      <td>0</td>\n",
              "      <td>Hanin Amni</td>\n",
              "      <td>NaN</td>\n",
              "      <td>88.0.4324.93</td>\n",
              "      <td>2021-03-05</td>\n",
              "      <td>com.android.chrome</td>\n",
              "      <td>after update it lag and always slow same goes ...</td>\n",
              "      <td>NEGATIVE</td>\n",
              "    </tr>\n",
              "  </tbody>\n",
              "</table>\n",
              "</div>\n",
              "      <button class=\"colab-df-convert\" onclick=\"convertToInteractive('df-d311c534-545c-4cf0-86df-5d39f760b32c')\"\n",
              "              title=\"Convert this dataframe to an interactive table.\"\n",
              "              style=\"display:none;\">\n",
              "        \n",
              "  <svg xmlns=\"http://www.w3.org/2000/svg\" height=\"24px\"viewBox=\"0 0 24 24\"\n",
              "       width=\"24px\">\n",
              "    <path d=\"M0 0h24v24H0V0z\" fill=\"none\"/>\n",
              "    <path d=\"M18.56 5.44l.94 2.06.94-2.06 2.06-.94-2.06-.94-.94-2.06-.94 2.06-2.06.94zm-11 1L8.5 8.5l.94-2.06 2.06-.94-2.06-.94L8.5 2.5l-.94 2.06-2.06.94zm10 10l.94 2.06.94-2.06 2.06-.94-2.06-.94-.94-2.06-.94 2.06-2.06.94z\"/><path d=\"M17.41 7.96l-1.37-1.37c-.4-.4-.92-.59-1.43-.59-.52 0-1.04.2-1.43.59L10.3 9.45l-7.72 7.72c-.78.78-.78 2.05 0 2.83L4 21.41c.39.39.9.59 1.41.59.51 0 1.02-.2 1.41-.59l7.78-7.78 2.81-2.81c.8-.78.8-2.07 0-2.86zM5.41 20L4 18.59l7.72-7.72 1.47 1.35L5.41 20z\"/>\n",
              "  </svg>\n",
              "      </button>\n",
              "      \n",
              "  <style>\n",
              "    .colab-df-container {\n",
              "      display:flex;\n",
              "      flex-wrap:wrap;\n",
              "      gap: 12px;\n",
              "    }\n",
              "\n",
              "    .colab-df-convert {\n",
              "      background-color: #E8F0FE;\n",
              "      border: none;\n",
              "      border-radius: 50%;\n",
              "      cursor: pointer;\n",
              "      display: none;\n",
              "      fill: #1967D2;\n",
              "      height: 32px;\n",
              "      padding: 0 0 0 0;\n",
              "      width: 32px;\n",
              "    }\n",
              "\n",
              "    .colab-df-convert:hover {\n",
              "      background-color: #E2EBFA;\n",
              "      box-shadow: 0px 1px 2px rgba(60, 64, 67, 0.3), 0px 1px 3px 1px rgba(60, 64, 67, 0.15);\n",
              "      fill: #174EA6;\n",
              "    }\n",
              "\n",
              "    [theme=dark] .colab-df-convert {\n",
              "      background-color: #3B4455;\n",
              "      fill: #D2E3FC;\n",
              "    }\n",
              "\n",
              "    [theme=dark] .colab-df-convert:hover {\n",
              "      background-color: #434B5C;\n",
              "      box-shadow: 0px 1px 3px 1px rgba(0, 0, 0, 0.15);\n",
              "      filter: drop-shadow(0px 1px 2px rgba(0, 0, 0, 0.3));\n",
              "      fill: #FFFFFF;\n",
              "    }\n",
              "  </style>\n",
              "\n",
              "      <script>\n",
              "        const buttonEl =\n",
              "          document.querySelector('#df-d311c534-545c-4cf0-86df-5d39f760b32c button.colab-df-convert');\n",
              "        buttonEl.style.display =\n",
              "          google.colab.kernel.accessAllowed ? 'block' : 'none';\n",
              "\n",
              "        async function convertToInteractive(key) {\n",
              "          const element = document.querySelector('#df-d311c534-545c-4cf0-86df-5d39f760b32c');\n",
              "          const dataTable =\n",
              "            await google.colab.kernel.invokeFunction('convertToInteractive',\n",
              "                                                     [key], {});\n",
              "          if (!dataTable) return;\n",
              "\n",
              "          const docLinkHtml = 'Like what you see? Visit the ' +\n",
              "            '<a target=\"_blank\" href=https://colab.research.google.com/notebooks/data_table.ipynb>data table notebook</a>'\n",
              "            + ' to learn more about interactive tables.';\n",
              "          element.innerHTML = '';\n",
              "          dataTable['output_type'] = 'display_data';\n",
              "          await google.colab.output.renderOutput(dataTable, element);\n",
              "          const docLink = document.createElement('div');\n",
              "          docLink.innerHTML = docLinkHtml;\n",
              "          element.appendChild(docLink);\n",
              "        }\n",
              "      </script>\n",
              "    </div>\n",
              "  </div>\n",
              "  "
            ]
          },
          "metadata": {},
          "execution_count": 22
        }
      ]
    },
    {
      "cell_type": "code",
      "source": [
        "chrome_reviews.to_csv('Output.csv')"
      ],
      "metadata": {
        "id": "xa_mypw1ivWC"
      },
      "execution_count": null,
      "outputs": []
    },
    {
      "cell_type": "code",
      "source": [
        "chrome_reviews_positive = chrome_reviews[chrome_reviews.user_sentiments == 'POSITIVE']\n",
        "chrome_reviews_positive.shape"
      ],
      "metadata": {
        "colab": {
          "base_uri": "https://localhost:8080/"
        },
        "id": "GxpRT-28jeM5",
        "outputId": "7f5cd7b2-d418-4906-a9f7-c5b0e92d93b1"
      },
      "execution_count": null,
      "outputs": [
        {
          "output_type": "execute_result",
          "data": {
            "text/plain": [
              "(4201, 12)"
            ]
          },
          "metadata": {},
          "execution_count": 24
        }
      ]
    },
    {
      "cell_type": "code",
      "source": [
        "#Holding  3 star rating as a thresold, Showing reviews with Positive Sentiments and Low Ratings\n",
        "low_rating = chrome_reviews_positive[chrome_reviews_positive.Star < 3]\n",
        "low_rating.shape"
      ],
      "metadata": {
        "colab": {
          "base_uri": "https://localhost:8080/"
        },
        "id": "8osATOuqkT_l",
        "outputId": "bbfaf3cc-04ab-4204-afa0-b746b497503d"
      },
      "execution_count": null,
      "outputs": [
        {
          "output_type": "execute_result",
          "data": {
            "text/plain": [
              "(329, 12)"
            ]
          },
          "metadata": {},
          "execution_count": 25
        }
      ]
    },
    {
      "cell_type": "code",
      "source": [
        "low_rating[['Text','user_sentiments','Star','Tokenised_Text']]"
      ],
      "metadata": {
        "colab": {
          "base_uri": "https://localhost:8080/",
          "height": 423
        },
        "id": "hH_-jMj-k-7Q",
        "outputId": "0c97b8c2-ca58-4b75-8616-52d4f486cc93"
      },
      "execution_count": null,
      "outputs": [
        {
          "output_type": "execute_result",
          "data": {
            "text/plain": [
              "                                                   Text user_sentiments  Star  \\\n",
              "15                Very coming in real status. Thank you        POSITIVE     1   \n",
              "42                          Okk kind but bad then brave        POSITIVE     1   \n",
              "84                                    App updated issue        POSITIVE     1   \n",
              "91                    Jelek..........?!!!!!!!!!!!!!!!!!        POSITIVE     1   \n",
              "101                                                Good        POSITIVE     1   \n",
              "...                                                 ...             ...   ...   \n",
              "7051                                           Helpfull        POSITIVE     1   \n",
              "7076                                             Second        POSITIVE     2   \n",
              "7101                                              Wirst        POSITIVE     1   \n",
              "7113                                                Idk        POSITIVE     1   \n",
              "7195  Chrome is good, I trust this update will make ...        POSITIVE     1   \n",
              "\n",
              "                                         Tokenised_Text  \n",
              "15                very coming in real status. thank you  \n",
              "42                          okk kind but bad then brave  \n",
              "84                                    app updated issue  \n",
              "91                    jelek..........?!!!!!!!!!!!!!!!!!  \n",
              "101                                                good  \n",
              "...                                                 ...  \n",
              "7051                                           helpfull  \n",
              "7076                                             second  \n",
              "7101                                              wirst  \n",
              "7113                                                idk  \n",
              "7195  chrome is good, i trust this update will make ...  \n",
              "\n",
              "[329 rows x 4 columns]"
            ],
            "text/html": [
              "\n",
              "  <div id=\"df-2ee8f56f-acd6-4593-b9f1-00af27dc62fa\">\n",
              "    <div class=\"colab-df-container\">\n",
              "      <div>\n",
              "<style scoped>\n",
              "    .dataframe tbody tr th:only-of-type {\n",
              "        vertical-align: middle;\n",
              "    }\n",
              "\n",
              "    .dataframe tbody tr th {\n",
              "        vertical-align: top;\n",
              "    }\n",
              "\n",
              "    .dataframe thead th {\n",
              "        text-align: right;\n",
              "    }\n",
              "</style>\n",
              "<table border=\"1\" class=\"dataframe\">\n",
              "  <thead>\n",
              "    <tr style=\"text-align: right;\">\n",
              "      <th></th>\n",
              "      <th>Text</th>\n",
              "      <th>user_sentiments</th>\n",
              "      <th>Star</th>\n",
              "      <th>Tokenised_Text</th>\n",
              "    </tr>\n",
              "  </thead>\n",
              "  <tbody>\n",
              "    <tr>\n",
              "      <th>15</th>\n",
              "      <td>Very coming in real status. Thank you</td>\n",
              "      <td>POSITIVE</td>\n",
              "      <td>1</td>\n",
              "      <td>very coming in real status. thank you</td>\n",
              "    </tr>\n",
              "    <tr>\n",
              "      <th>42</th>\n",
              "      <td>Okk kind but bad then brave</td>\n",
              "      <td>POSITIVE</td>\n",
              "      <td>1</td>\n",
              "      <td>okk kind but bad then brave</td>\n",
              "    </tr>\n",
              "    <tr>\n",
              "      <th>84</th>\n",
              "      <td>App updated issue</td>\n",
              "      <td>POSITIVE</td>\n",
              "      <td>1</td>\n",
              "      <td>app updated issue</td>\n",
              "    </tr>\n",
              "    <tr>\n",
              "      <th>91</th>\n",
              "      <td>Jelek..........?!!!!!!!!!!!!!!!!!</td>\n",
              "      <td>POSITIVE</td>\n",
              "      <td>1</td>\n",
              "      <td>jelek..........?!!!!!!!!!!!!!!!!!</td>\n",
              "    </tr>\n",
              "    <tr>\n",
              "      <th>101</th>\n",
              "      <td>Good</td>\n",
              "      <td>POSITIVE</td>\n",
              "      <td>1</td>\n",
              "      <td>good</td>\n",
              "    </tr>\n",
              "    <tr>\n",
              "      <th>...</th>\n",
              "      <td>...</td>\n",
              "      <td>...</td>\n",
              "      <td>...</td>\n",
              "      <td>...</td>\n",
              "    </tr>\n",
              "    <tr>\n",
              "      <th>7051</th>\n",
              "      <td>Helpfull</td>\n",
              "      <td>POSITIVE</td>\n",
              "      <td>1</td>\n",
              "      <td>helpfull</td>\n",
              "    </tr>\n",
              "    <tr>\n",
              "      <th>7076</th>\n",
              "      <td>Second</td>\n",
              "      <td>POSITIVE</td>\n",
              "      <td>2</td>\n",
              "      <td>second</td>\n",
              "    </tr>\n",
              "    <tr>\n",
              "      <th>7101</th>\n",
              "      <td>Wirst</td>\n",
              "      <td>POSITIVE</td>\n",
              "      <td>1</td>\n",
              "      <td>wirst</td>\n",
              "    </tr>\n",
              "    <tr>\n",
              "      <th>7113</th>\n",
              "      <td>Idk</td>\n",
              "      <td>POSITIVE</td>\n",
              "      <td>1</td>\n",
              "      <td>idk</td>\n",
              "    </tr>\n",
              "    <tr>\n",
              "      <th>7195</th>\n",
              "      <td>Chrome is good, I trust this update will make ...</td>\n",
              "      <td>POSITIVE</td>\n",
              "      <td>1</td>\n",
              "      <td>chrome is good, i trust this update will make ...</td>\n",
              "    </tr>\n",
              "  </tbody>\n",
              "</table>\n",
              "<p>329 rows × 4 columns</p>\n",
              "</div>\n",
              "      <button class=\"colab-df-convert\" onclick=\"convertToInteractive('df-2ee8f56f-acd6-4593-b9f1-00af27dc62fa')\"\n",
              "              title=\"Convert this dataframe to an interactive table.\"\n",
              "              style=\"display:none;\">\n",
              "        \n",
              "  <svg xmlns=\"http://www.w3.org/2000/svg\" height=\"24px\"viewBox=\"0 0 24 24\"\n",
              "       width=\"24px\">\n",
              "    <path d=\"M0 0h24v24H0V0z\" fill=\"none\"/>\n",
              "    <path d=\"M18.56 5.44l.94 2.06.94-2.06 2.06-.94-2.06-.94-.94-2.06-.94 2.06-2.06.94zm-11 1L8.5 8.5l.94-2.06 2.06-.94-2.06-.94L8.5 2.5l-.94 2.06-2.06.94zm10 10l.94 2.06.94-2.06 2.06-.94-2.06-.94-.94-2.06-.94 2.06-2.06.94z\"/><path d=\"M17.41 7.96l-1.37-1.37c-.4-.4-.92-.59-1.43-.59-.52 0-1.04.2-1.43.59L10.3 9.45l-7.72 7.72c-.78.78-.78 2.05 0 2.83L4 21.41c.39.39.9.59 1.41.59.51 0 1.02-.2 1.41-.59l7.78-7.78 2.81-2.81c.8-.78.8-2.07 0-2.86zM5.41 20L4 18.59l7.72-7.72 1.47 1.35L5.41 20z\"/>\n",
              "  </svg>\n",
              "      </button>\n",
              "      \n",
              "  <style>\n",
              "    .colab-df-container {\n",
              "      display:flex;\n",
              "      flex-wrap:wrap;\n",
              "      gap: 12px;\n",
              "    }\n",
              "\n",
              "    .colab-df-convert {\n",
              "      background-color: #E8F0FE;\n",
              "      border: none;\n",
              "      border-radius: 50%;\n",
              "      cursor: pointer;\n",
              "      display: none;\n",
              "      fill: #1967D2;\n",
              "      height: 32px;\n",
              "      padding: 0 0 0 0;\n",
              "      width: 32px;\n",
              "    }\n",
              "\n",
              "    .colab-df-convert:hover {\n",
              "      background-color: #E2EBFA;\n",
              "      box-shadow: 0px 1px 2px rgba(60, 64, 67, 0.3), 0px 1px 3px 1px rgba(60, 64, 67, 0.15);\n",
              "      fill: #174EA6;\n",
              "    }\n",
              "\n",
              "    [theme=dark] .colab-df-convert {\n",
              "      background-color: #3B4455;\n",
              "      fill: #D2E3FC;\n",
              "    }\n",
              "\n",
              "    [theme=dark] .colab-df-convert:hover {\n",
              "      background-color: #434B5C;\n",
              "      box-shadow: 0px 1px 3px 1px rgba(0, 0, 0, 0.15);\n",
              "      filter: drop-shadow(0px 1px 2px rgba(0, 0, 0, 0.3));\n",
              "      fill: #FFFFFF;\n",
              "    }\n",
              "  </style>\n",
              "\n",
              "      <script>\n",
              "        const buttonEl =\n",
              "          document.querySelector('#df-2ee8f56f-acd6-4593-b9f1-00af27dc62fa button.colab-df-convert');\n",
              "        buttonEl.style.display =\n",
              "          google.colab.kernel.accessAllowed ? 'block' : 'none';\n",
              "\n",
              "        async function convertToInteractive(key) {\n",
              "          const element = document.querySelector('#df-2ee8f56f-acd6-4593-b9f1-00af27dc62fa');\n",
              "          const dataTable =\n",
              "            await google.colab.kernel.invokeFunction('convertToInteractive',\n",
              "                                                     [key], {});\n",
              "          if (!dataTable) return;\n",
              "\n",
              "          const docLinkHtml = 'Like what you see? Visit the ' +\n",
              "            '<a target=\"_blank\" href=https://colab.research.google.com/notebooks/data_table.ipynb>data table notebook</a>'\n",
              "            + ' to learn more about interactive tables.';\n",
              "          element.innerHTML = '';\n",
              "          dataTable['output_type'] = 'display_data';\n",
              "          await google.colab.output.renderOutput(dataTable, element);\n",
              "          const docLink = document.createElement('div');\n",
              "          docLink.innerHTML = docLinkHtml;\n",
              "          element.appendChild(docLink);\n",
              "        }\n",
              "      </script>\n",
              "    </div>\n",
              "  </div>\n",
              "  "
            ]
          },
          "metadata": {},
          "execution_count": 28
        }
      ]
    }
  ]
}